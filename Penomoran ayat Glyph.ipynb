{
  "nbformat": 4,
  "nbformat_minor": 0,
  "metadata": {
    "colab": {
      "provenance": [],
      "authorship_tag": "ABX9TyMw4rMF3SztYvVJv/oQhgO4",
      "include_colab_link": true
    },
    "kernelspec": {
      "name": "python3",
      "display_name": "Python 3"
    },
    "language_info": {
      "name": "python"
    }
  },
  "cells": [
    {
      "cell_type": "markdown",
      "metadata": {
        "id": "view-in-github",
        "colab_type": "text"
      },
      "source": [
        "<a href=\"https://colab.research.google.com/github/tafsirnetlifyapp/colab/blob/main/Penomoran%20ayat%20Glyph.ipynb\" target=\"_parent\"><img src=\"https://colab.research.google.com/assets/colab-badge.svg\" alt=\"Open In Colab\"/></a>"
      ]
    },
    {
      "cell_type": "code",
      "execution_count": null,
      "metadata": {
        "id": "zW--uceesY7o"
      },
      "outputs": [],
      "source": [
        "# @title 🚀 Tempel Glyph Angka ke Kata Terakhir di Surah 98\n",
        "import json\n",
        "from google.colab import files\n",
        "from IPython.display import display\n",
        "import ipywidgets as widgets\n",
        "\n",
        "# --- Upload dua file: quran4.json dan glyph_angka_98.json ---\n",
        "print(\"⬆️ Silakan upload file quran4.json dan glyph_angka_98.json kamu:\")\n",
        "upload = files.upload()\n",
        "\n",
        "# --- Load data ---\n",
        "quran_file = \"quran4.json\"\n",
        "glyph_file = \"glyph_angka_98.json\"\n",
        "\n",
        "with open(quran_file, encoding=\"utf-8\") as f:\n",
        "    quran_data = json.load(f)\n",
        "\n",
        "with open(glyph_file, encoding=\"utf-8\") as f:\n",
        "    glyph_data = json.load(f)\n",
        "\n",
        "# --- Proses penempelan glyph angka ---\n",
        "for ayat_key in glyph_data:\n",
        "    if ayat_key in quran_data:\n",
        "        teks = quran_data[ayat_key]\n",
        "        glyph = glyph_data[ayat_key]\n",
        "\n",
        "        if glyph:\n",
        "            kata_list = [k.strip() for k in teks.split(\"|\")]\n",
        "            # Tempel glyph angka ke kata terakhir\n",
        "            kata_list[-1] = kata_list[-1] + glyph\n",
        "            quran_data[ayat_key] = \" | \".join(kata_list)\n",
        "\n",
        "# --- Simpan hasil ke file baru ---\n",
        "output_filename = \"quran4_final.json\"\n",
        "with open(output_filename, \"w\", encoding=\"utf-8\") as f:\n",
        "    json.dump(quran_data, f, ensure_ascii=False, indent=2)\n",
        "\n",
        "# --- Download hasil ---\n",
        "print(\"✅ Glyph angka sudah ditambahkan ke quran4.json\")\n",
        "files.download(output_filename)\n"
      ]
    }
  ]
}