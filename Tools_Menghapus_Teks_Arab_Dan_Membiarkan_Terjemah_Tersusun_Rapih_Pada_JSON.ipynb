{
  "nbformat": 4,
  "nbformat_minor": 0,
  "metadata": {
    "colab": {
      "provenance": [],
      "authorship_tag": "ABX9TyNRyhFBtaJHDkwUndvqV2Zs",
      "include_colab_link": true
    },
    "kernelspec": {
      "name": "python3",
      "display_name": "Python 3"
    },
    "language_info": {
      "name": "python"
    }
  },
  "cells": [
    {
      "cell_type": "markdown",
      "metadata": {
        "id": "view-in-github",
        "colab_type": "text"
      },
      "source": [
        "<a href=\"https://colab.research.google.com/github/tafsirnetlifyapp/colab/blob/main/Tools_Menghapus_Teks_Arab_Dan_Membiarkan_Terjemah_Tersusun_Rapih_Pada_JSON.ipynb\" target=\"_parent\"><img src=\"https://colab.research.google.com/assets/colab-badge.svg\" alt=\"Open In Colab\"/></a>"
      ]
    },
    {
      "cell_type": "code",
      "execution_count": null,
      "metadata": {
        "id": "ncfbOSRycya8"
      },
      "outputs": [],
      "source": [
        "#Tools Menghapus Teks Arab Dan Membiarkan Terjemah Tersusun Rapih Pada JSON\n",
        "\n",
        "import json\n",
        "import re\n",
        "from google.colab import files\n",
        "import io\n",
        "\n",
        "# --- 1. Upload File JSON ---\n",
        "uploaded = files.upload()\n",
        "file_name = list(uploaded.keys())[0]\n",
        "\n",
        "# --- 2. Perbaiki JSON: Hilangkan koma terakhir jika ada ---\n",
        "def fix_trailing_comma(json_str):\n",
        "    json_str = re.sub(r',\\s*}', '}', json_str)  # hapus koma terakhir sebelum }\n",
        "    json_str = re.sub(r',\\s*\\]', ']', json_str)  # hapus koma terakhir sebelum ]\n",
        "    return json_str\n",
        "\n",
        "# --- 3. Baca dan parse JSON ---\n",
        "with io.open(file_name, 'r', encoding='utf-8') as f:\n",
        "    raw_text = f.read()\n",
        "    fixed_text = fix_trailing_comma(raw_text)\n",
        "    data = json.loads(fixed_text)\n",
        "\n",
        "# --- 4. Fungsi hapus huruf Arab dan simbol non-Latin ---\n",
        "def remove_non_latin(text):\n",
        "    return re.sub(r'[^\\x00-\\x7F\\u00C0-\\u024F\\u1E00-\\u1EFFa-zA-Z0-9\\s]', '', text)\n",
        "\n",
        "# --- 5. Proses per ayat: hapus Arab + balik susunan kata ---\n",
        "processed_data = {}\n",
        "for ayah, text in data.items():\n",
        "    parts = text.split(\" | \")\n",
        "    clean_parts = []\n",
        "    for part in parts:\n",
        "        cleaned = remove_non_latin(part).strip()\n",
        "        if cleaned:\n",
        "            clean_parts.append(cleaned)\n",
        "    reversed_text = \" | \".join(reversed(clean_parts))\n",
        "    processed_data[ayah] = reversed_text\n",
        "\n",
        "# --- 6. Simpan file hasil ---\n",
        "output_filename = \"latin_only_reversed_\" + file_name\n",
        "with open(output_filename, 'w', encoding='utf-8') as f:\n",
        "    json.dump(processed_data, f, ensure_ascii=False, indent=2)\n",
        "\n",
        "# --- 7. Download file hasil ---\n",
        "files.download(output_filename)\n"
      ]
    }
  ]
}