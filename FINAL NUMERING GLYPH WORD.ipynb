{
  "nbformat": 4,
  "nbformat_minor": 0,
  "metadata": {
    "colab": {
      "provenance": [],
      "authorship_tag": "ABX9TyOtnet06YRp41FKwpWiCIfZ",
      "include_colab_link": true
    },
    "kernelspec": {
      "name": "python3",
      "display_name": "Python 3"
    },
    "language_info": {
      "name": "python"
    }
  },
  "cells": [
    {
      "cell_type": "markdown",
      "metadata": {
        "id": "view-in-github",
        "colab_type": "text"
      },
      "source": [
        "<a href=\"https://colab.research.google.com/github/tafsirnetlifyapp/colab/blob/main/FINAL%20NUMERING%20GLYPH%20WORD.ipynb\" target=\"_parent\"><img src=\"https://colab.research.google.com/assets/colab-badge.svg\" alt=\"Open In Colab\"/></a>"
      ]
    },
    {
      "cell_type": "code",
      "execution_count": null,
      "metadata": {
        "id": "ec6YEvgxxmL0"
      },
      "outputs": [],
      "source": [
        "# @title 🔄 Ambil Glyph Angka 1–114 & Gabungkan ke quran4.json\n",
        "import requests, json, time\n",
        "from tqdm import tqdm\n",
        "from google.colab import files\n",
        "\n",
        "print(\"⬆️ Silakan upload file quran4.json kamu:\")\n",
        "upload = files.upload()\n",
        "\n",
        "# --- Load quran4.json ---\n",
        "with open(\"quran4.json\", encoding=\"utf-8\") as f:\n",
        "    quran_data = json.load(f)\n",
        "\n",
        "# --- Ambil jumlah ayat per surah (1–114) ---\n",
        "jumlah_ayat_per_surah = {\n",
        "    1:7, 2:286, 3:200, 4:176, 5:120, 6:165, 7:206, 8:75, 9:129, 10:109,\n",
        "    11:123, 12:111, 13:43, 14:52, 15:99, 16:128, 17:111, 18:110, 19:98, 20:135,\n",
        "    21:112, 22:78, 23:118, 24:64, 25:77, 26:227, 27:93, 28:88, 29:69, 30:60,\n",
        "    31:34, 32:30, 33:73, 34:54, 35:45, 36:83, 37:182, 38:88, 39:75, 40:85,\n",
        "    41:54, 42:53, 43:89, 44:59, 45:37, 46:35, 47:38, 48:29, 49:18, 50:45,\n",
        "    51:60, 52:49, 53:62, 54:55, 55:78, 56:96, 57:29, 58:22, 59:24, 60:13,\n",
        "    61:14, 62:11, 63:11, 64:18, 65:12, 66:12, 67:30, 68:52, 69:52, 70:44,\n",
        "    71:28, 72:28, 73:20, 74:56, 75:40, 76:31, 77:50, 78:40, 79:46, 80:42,\n",
        "    81:29, 82:19, 83:36, 84:25, 85:22, 86:17, 87:19, 88:26, 89:30, 90:20,\n",
        "    91:15, 92:21, 93:11, 94:8, 95:8, 96:19, 97:5, 98:8, 99:8, 100:11,\n",
        "    101:11, 102:8, 103:3, 104:9, 105:5, 106:4, 107:7, 108:3, 109:6, 110:3,\n",
        "    111:5, 112:4, 113:5, 114:6\n",
        "}\n",
        "\n",
        "# --- Fungsi ambil glyph angka ---\n",
        "def ambil_glyph(surah, ayah):\n",
        "    url = f\"https://api.quran.com/api/v4/verses/by_key/{surah}:{ayah}?words=true\"\n",
        "    try:\n",
        "        r = requests.get(url)\n",
        "        if r.status_code == 200:\n",
        "            words = r.json()[\"verse\"][\"words\"]\n",
        "            for word in words:\n",
        "                if word.get(\"char_type_name\") == \"end\":\n",
        "                    return word.get(\"code_v1\", \"\")\n",
        "    except:\n",
        "        pass\n",
        "    return \"\"\n",
        "\n",
        "# --- Proses semua ayat ---\n",
        "print(\"📥 Mengambil glyph angka dari API quran.com...\")\n",
        "total = sum(jumlah_ayat_per_surah.values())\n",
        "progress = tqdm(total=total)\n",
        "error_log = []\n",
        "\n",
        "for surah in range(99, 100):\n",
        "    for ayah in range(1, jumlah_ayat_per_surah[surah] + 1):\n",
        "        key = f\"{surah}:{ayah}\"\n",
        "        glyph = ambil_glyph(surah, ayah)\n",
        "        if glyph and key in quran_data:\n",
        "            kata_list = [k.strip() for k in quran_data[key].split(\"|\")]\n",
        "            kata_list[-1] = kata_list[-1] + glyph\n",
        "            quran_data[key] = \" | \".join(kata_list)\n",
        "        elif key in quran_data:\n",
        "            error_log.append(key)\n",
        "        progress.update(1)\n",
        "        time.sleep(0.05)  # Hindari rate-limit API\n",
        "\n",
        "# --- Simpan hasil ---\n",
        "output_file = \"quran4_final.json\"\n",
        "with open(output_file, \"w\", encoding=\"utf-8\") as f:\n",
        "    json.dump(quran_data, f, ensure_ascii=False, indent=2)\n",
        "\n",
        "# --- Info akhir ---\n",
        "print(\"✅ Selesai!\")\n",
        "if error_log:\n",
        "    print(\"⚠️ Gagal mengambil glyph untuk:\", \", \".join(error_log[:10]), \"...\")\n",
        "else:\n",
        "    print(\"Semua ayat berhasil!\")\n",
        "\n",
        "files.download(output_file)\n"
      ]
    }
  ]
}